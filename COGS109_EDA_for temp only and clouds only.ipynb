{
 "cells": [
  {
   "cell_type": "code",
   "execution_count": 1,
   "metadata": {},
   "outputs": [],
   "source": [
    "import pandas as pd\n",
    "import numpy as np\n",
    "import matplotlib.pyplot as plt\n",
    "import seaborn as sns\n",
    "from sklearn.model_selection import train_test_split\n",
    "from sklearn.linear_model import LinearRegression\n",
    "from sklearn import metrics\n",
    "from sklearn.preprocessing import PolynomialFeatures"
   ]
  },
  {
   "cell_type": "code",
   "execution_count": 2,
   "metadata": {},
   "outputs": [],
   "source": [
    "traffic_df = pd.read_csv(\"Metro_Interstate_Traffic_Volume.csv\")"
   ]
  },
  {
   "cell_type": "code",
   "execution_count": 8,
   "metadata": {},
   "outputs": [],
   "source": [
    "def to_farenheit(X): \n",
    "    F_x = X - 273.15\n",
    "    F_x = ((9/5) * (F_x)) + 32.0\n",
    "    \n",
    "    return float(F_x)"
   ]
  },
  {
   "cell_type": "code",
   "execution_count": 9,
   "metadata": {},
   "outputs": [],
   "source": [
    "# Removing 0 Kelvin values\n",
    "traffic_df = traffic_df[traffic_df['temp'] > 0]\n",
    "traffic_df[\"temp\"] = traffic_df['temp'].apply(to_farenheit)"
   ]
  },
  {
   "cell_type": "code",
   "execution_count": 20,
   "metadata": {},
   "outputs": [],
   "source": [
    "#Model : Temp 1st degree\n",
    "X_train, X_test, Y_train, Y_test = train_test_split(traffic_df['temp'].values, traffic_df['traffic_volume'].values,\n",
    "                                                    test_size = 0.2, random_state=0)\n",
    "X_train = X_train.reshape(-1,1)\n",
    "Y_train = Y_train.reshape(-1,1)\n",
    "X_test = X_test.reshape(-1,1)\n",
    "Y_test = Y_test.reshape(-1,1)\n",
    "\n",
    "model_temp = LinearRegression().fit(X_train, Y_train)"
   ]
  },
  {
   "cell_type": "code",
   "execution_count": 21,
   "metadata": {},
   "outputs": [
    {
     "name": "stdout",
     "output_type": "stream",
     "text": [
      "[[11.79464787]]\n",
      "[2712.56148555]\n",
      "Mean Squared Error SSE_test: 3862511.3020332707\n"
     ]
    }
   ],
   "source": [
    "print(model_temp.coef_)\n",
    "print(model_temp.intercept_)\n",
    "MSE_temp = metrics.mean_squared_error(Y_test, model_temp.predict(X_test))\n",
    "print('Mean Squared Error SSE_test:', MSE_temp)"
   ]
  },
  {
   "cell_type": "markdown",
   "metadata": {},
   "source": [
    "Model Temp: Traffic Volume = 11.795 * Temp + 2712.561"
   ]
  },
  {
   "cell_type": "code",
   "execution_count": 22,
   "metadata": {},
   "outputs": [],
   "source": [
    "#Model: Clouds 1st degree\n",
    "X_train, X_test, Y_train, Y_test = train_test_split(traffic_df['clouds_all'].values, traffic_df['traffic_volume'].values,\n",
    "                                                    test_size = 0.2, random_state=0)\n",
    "X_train = X_train.reshape(-1,1)\n",
    "Y_train = Y_train.reshape(-1,1)\n",
    "X_test = X_test.reshape(-1,1)\n",
    "Y_test = Y_test.reshape(-1,1)\n",
    "\n",
    "model_cloud = LinearRegression().fit(X_train, Y_train)"
   ]
  },
  {
   "cell_type": "code",
   "execution_count": 23,
   "metadata": {},
   "outputs": [
    {
     "name": "stdout",
     "output_type": "stream",
     "text": [
      "[[3.2656767]]\n",
      "[3101.3561775]\n",
      "Mean Squared Error SSE_test: 3894865.8537494475\n"
     ]
    }
   ],
   "source": [
    "print(model_cloud.coef_)\n",
    "print(model_cloud.intercept_)\n",
    "MSE_cloud = metrics.mean_squared_error(Y_test, model_cloud.predict(X_test))\n",
    "print('Mean Squared Error SSE_test:', MSE_cloud)"
   ]
  },
  {
   "cell_type": "markdown",
   "metadata": {},
   "source": [
    "Model Clouds: Traffic Volume = 3.266 * Clouds + 3101.356"
   ]
  },
  {
   "cell_type": "code",
   "execution_count": 24,
   "metadata": {},
   "outputs": [],
   "source": [
    "#Model: Temp 2nd degree\n",
    "X_train, X_test, Y_train, Y_test = train_test_split(traffic_df['temp'].values, traffic_df['traffic_volume'].values,\n",
    "                                                    test_size = 0.2, random_state=0)\n",
    "poly = PolynomialFeatures(degree=2, include_bias=False)\n",
    "X_train = poly.fit_transform(X_train.reshape(-1,1))\n",
    "Y_train = Y_train.reshape(-1,1)\n",
    "X_test = poly.transform(X_test.reshape(-1,1))\n",
    "Y_test = Y_test.reshape(-1,1)\n",
    "\n",
    "model_temp_2nd = LinearRegression().fit(X_train, Y_train)"
   ]
  },
  {
   "cell_type": "code",
   "execution_count": 25,
   "metadata": {},
   "outputs": [
    {
     "name": "stdout",
     "output_type": "stream",
     "text": [
      "[[-6.69632832  0.21747521]]\n",
      "[2988.67869115]\n",
      "Mean Squared Error SSE_test: 3854065.3435735106\n"
     ]
    }
   ],
   "source": [
    "print(model_temp_2nd.coef_)\n",
    "print(model_temp_2nd.intercept_)\n",
    "MSE_temp_2nd = metrics.mean_squared_error(Y_test, model_temp_2nd.predict(X_test))\n",
    "print('Mean Squared Error SSE_test:', MSE_temp_2nd)"
   ]
  },
  {
   "cell_type": "code",
   "execution_count": 26,
   "metadata": {},
   "outputs": [
    {
     "data": {
      "text/plain": [
       "<BarContainer object of 2 artists>"
      ]
     },
     "execution_count": 26,
     "metadata": {},
     "output_type": "execute_result"
    },
    {
     "data": {
      "image/png": "[encoded data removed]",
      "text/plain": [
       "<Figure size 432x288 with 1 Axes>"
      ]
     },
     "metadata": {
      "needs_background": "light"
     },
     "output_type": "display_data"
    }
   ],
   "source": [
    "plt.bar((' SSE in Model Temp' , ' SSE in Model Cloud' ), (MSE_temp, MSE_cloud), width = 0.4)"
   ]
  },
  {
   "cell_type": "code",
   "execution_count": null,
   "metadata": {},
   "outputs": [],
   "source": []
  }
 ],
 "metadata": {
  "kernelspec": {
   "display_name": "Python 3",
   "language": "python",
   "name": "python3"
  },
  "language_info": {
   "codemirror_mode": {
    "name": "ipython",
    "version": 3
   },
   "file_extension": ".py",
   "mimetype": "text/x-python",
   "name": "python",
   "nbconvert_exporter": "python",
   "pygments_lexer": "ipython3",
   "version": "3.8.5"
  }
 },
 "nbformat": 4,
 "nbformat_minor": 4
}
