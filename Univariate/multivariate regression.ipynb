{
 "cells": [
  {
   "cell_type": "markdown",
   "metadata": {},
   "source": [
    "## Univariate Linear Regression"
   ]
  },
  {
   "cell_type": "code",
   "execution_count": null,
   "metadata": {},
   "outputs": [],
   "source": [
    "## Load the dataset and extract ______ as X and ______ as Y\n",
    "\n",
    "data = pd.read_csv(\"  \").values #fill in for which csv unless we already have the dataframe for it\n",
    "\n",
    "X = data[:,0] #Replace with X column\n",
    "Y = data[:,1] #Replace with Y column\n",
    "\n",
    "## Create A, the augmented data array\n",
    "\n",
    "ones = np.ones(len(X))\n",
    "\n",
    "A1 = np.vstack([ones,X]).T\n",
    "#A1.shape\n",
    "\n",
    "## Solve for w, the weight vector\n",
    "\n",
    "w1 = np.linalg.lstsq(A1,Y, rcond=None)[0]\n",
    "y_pred1 = np.matmul(A1, w1)\n",
    "\n",
    "print(\"Model 1:\")\n",
    "print(\"(Fill in with predicted Y) = %f  + %f * (Fill in with predicted Y)\" % (w1[0],w1[1]))"
   ]
  },
  {
   "cell_type": "code",
   "execution_count": null,
   "metadata": {},
   "outputs": [],
   "source": [
    "## Create A, the augmented data array\n",
    "\n",
    "ones = np.ones(len(X))\n",
    "squares = np.square(X)\n",
    "\n",
    "A2 = np.vstack([ones, X, squares]).T\n",
    "\n",
    "## Solve for w, the weight vector\n",
    "w2 = np.linalg.lstsq(A2,Y, rcond=None)[0]\n",
    "y_pred2 = np.matmul(A2, w2)\n",
    "\n",
    "print(\"Model M2:\")\n",
    "print(\"(Fill in with predicted Y) = %f  + %f * (Fill in with predicted Y) + %f * (Fill in with predicted Y)^2\" % (w2[0],w2[1],w2[2]))"
   ]
  },
  {
   "cell_type": "markdown",
   "metadata": {},
   "source": [
    "## This is a comment: first model is just a straight line, second model is intended to be more fitted\n",
    "\n",
    "\n",
    "delete this cell when done"
   ]
  },
  {
   "cell_type": "code",
   "execution_count": null,
   "metadata": {},
   "outputs": [],
   "source": [
    "## Create a smooth set of X values for plotting the model\n",
    "lineinput = np.linspace(0,6700,100)     #replace with how we want to space out the information and the range\n",
    "## Send the X values for plotting through the linear model\n",
    "ones = np.ones(len(lineinput))\n",
    "squares = np.square(lineinput)\n",
    "A3 = np.vstack([ones, lineinput]).T\n",
    "A4 = np.vstack([ones,lineinput,squares]).T\n",
    "\n",
    "yplot1 = np.matmul(A3, w1)\n",
    "yplot2 = np.matmul(A4, w2)"
   ]
  },
  {
   "cell_type": "code",
   "execution_count": null,
   "metadata": {},
   "outputs": [],
   "source": [
    "## Plot the data along with the model\n",
    "\n",
    "# Plot the data\n",
    "# Plot the model\n",
    "fig, axs = plt.subplots(1, 2)\n",
    "plt.subplots_adjust(left=None, bottom=None, right=2, top=None, wspace=None, hspace=None)\n",
    "\n",
    "plt.subplot(1,2,1)\n",
    "plt.scatter(X, Y, label = \"Data\")\n",
    "plt.plot(lineinput, yplot1, label = \"Model 1\")\n",
    "plt.ylabel(' ') # fill in Y\n",
    "plt.xlabel(' ') # fill in X\n",
    "plt.title('Model 1')\n",
    "plt.legend()\n",
    "\n",
    "plt.subplot(1,2,2)\n",
    "plt.scatter(X, Y, label = \"Data\")\n",
    "plt.plot(lineinput, yplot2, label = \"Model 2\")\n",
    "plt.ylabel(' ') # fill in Y\n",
    "plt.xlabel(' ') # fill in X\n",
    "plt.title('Model 2')\n",
    "plt.legend()\n",
    "plt.show # This lets you plot multiple inputs on the same graph"
   ]
  },
  {
   "cell_type": "markdown",
   "metadata": {},
   "source": [
    "## SSE of Models"
   ]
  },
  {
   "cell_type": "code",
   "execution_count": null,
   "metadata": {},
   "outputs": [],
   "source": [
    "model1_SSE = sum((y_pred1 - Y)**2)\n",
    "model2_SSE = sum((y_pred2 - Y)**2)\n",
    "\n",
    "fig = plt.figure()\n",
    "ax = fig.add_axes([0,0,1,1])\n",
    "x = ['Model 1', 'Model 2']\n",
    "y = [model1_SSE, model2_SSE]\n",
    "ax.bar(x,y)\n",
    "plt.ylabel('Error')\n",
    "plt.title('SSE for Models')\n",
    "plt.show()"
   ]
  },
  {
   "cell_type": "markdown",
   "metadata": {},
   "source": [
    "## Multivariate Linear Regression"
   ]
  },
  {
   "cell_type": "code",
   "execution_count": null,
   "metadata": {},
   "outputs": [],
   "source": [
    "## Load the _____ data\n",
    "\n",
    "df = pd.read_csv(\" \") #can either load csv or the dataframe we already have\n",
    " \n",
    "# Extract the variables\n",
    "\n",
    "Y = df['(predicted value)'].values\n",
    "X1 = df['(first x)'].values\n",
    "X2 = df['(second x)'].values\n",
    "\n",
    "A = np.vstack([X1, X2]).T\n",
    "\n",
    "A_train, A_test, Y_train, Y_test = train_test_split(A, Y, test_size=0.20)\n",
    "\n",
    "x1 = A_train[:,0]\n",
    "x2 = A_train[:,1]\n",
    "\n",
    "\n",
    "ones = np.ones(len(A_train))\n",
    "A_tr = np.vstack([ones, x1, x2]).T\n",
    "\n",
    "W2 = np.linalg.lstsq(A_tr,Y_train, rcond = None)[0]\n",
    "\n",
    "Y_train_pred = np.matmul(A_tr,W2)\n",
    "\n",
    "\n",
    "A_te = np.vstack([np.ones(len(A_test)), A_test[:,0], A_test[:,1]]).T\n",
    "\n",
    "Y_test_pred = np.matmul(A_te,W2)\n",
    "\n",
    "\n",
    "SSE_train = sum((Y_train_pred - Y_train)**2)\n",
    "\n",
    "\n",
    "SSE_test = sum((Y_test_pred - Y_test)**2)\n",
    "\n",
    "\n",
    "print(\"(predicted value) = %f  + %f * (first x) + %f * (second x)\" % (W2[0], W2[1], W2[2]))\n",
    "\n",
    "\n",
    "fig = plt.figure()\n",
    "ax = fig.add_axes([0,0,1,1])\n",
    "x = ['Training', 'Testing']\n",
    "y = [SSE_train, SSE_test]\n",
    "ax.bar(x,y)\n",
    "plt.ylabel('Error')\n",
    "plt.title('SSE of training data and testing data')\n",
    " \n",
    "plt.show()"
   ]
  }
 ],
 "metadata": {
  "kernelspec": {
   "display_name": "Python 3",
   "language": "python",
   "name": "python3"
  },
  "language_info": {
   "codemirror_mode": {
    "name": "ipython",
    "version": 3
   },
   "file_extension": ".py",
   "mimetype": "text/x-python",
   "name": "python",
   "nbconvert_exporter": "python",
   "pygments_lexer": "ipython3",
   "version": "3.7.6"
  }
 },
 "nbformat": 4,
 "nbformat_minor": 4
}
