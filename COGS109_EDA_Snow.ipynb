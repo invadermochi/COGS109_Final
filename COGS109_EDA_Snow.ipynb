{
 "cells": [
  {
   "cell_type": "code",
   "execution_count": 18,
   "metadata": {},
   "outputs": [],
   "source": [
    "import pandas as pd\n",
    "import matplotlib.pyplot as plt\n",
    "import seaborn as sns\n",
    "import numpy as np"
   ]
  },
  {
   "cell_type": "code",
   "execution_count": 2,
   "metadata": {},
   "outputs": [],
   "source": [
    "traffic_df = pd.read_csv(\"Metro_Interstate_Traffic_Volume.csv\")"
   ]
  },
  {
   "cell_type": "code",
   "execution_count": 3,
   "metadata": {},
   "outputs": [
    {
     "data": {
      "text/html": [
       "<div>\n",
       "<style scoped>\n",
       "    .dataframe tbody tr th:only-of-type {\n",
       "        vertical-align: middle;\n",
       "    }\n",
       "\n",
       "    .dataframe tbody tr th {\n",
       "        vertical-align: top;\n",
       "    }\n",
       "\n",
       "    .dataframe thead th {\n",
       "        text-align: right;\n",
       "    }\n",
       "</style>\n",
       "<table border=\"1\" class=\"dataframe\">\n",
       "  <thead>\n",
       "    <tr style=\"text-align: right;\">\n",
       "      <th></th>\n",
       "      <th>holiday</th>\n",
       "      <th>temp</th>\n",
       "      <th>rain_1h</th>\n",
       "      <th>snow_1h</th>\n",
       "      <th>clouds_all</th>\n",
       "      <th>weather_main</th>\n",
       "      <th>weather_description</th>\n",
       "      <th>date_time</th>\n",
       "      <th>traffic_volume</th>\n",
       "    </tr>\n",
       "  </thead>\n",
       "  <tbody>\n",
       "    <tr>\n",
       "      <th>48199</th>\n",
       "      <td>None</td>\n",
       "      <td>283.45</td>\n",
       "      <td>0.0</td>\n",
       "      <td>0.0</td>\n",
       "      <td>75</td>\n",
       "      <td>Clouds</td>\n",
       "      <td>broken clouds</td>\n",
       "      <td>2018-09-30 19:00:00</td>\n",
       "      <td>3543</td>\n",
       "    </tr>\n",
       "    <tr>\n",
       "      <th>48200</th>\n",
       "      <td>None</td>\n",
       "      <td>282.76</td>\n",
       "      <td>0.0</td>\n",
       "      <td>0.0</td>\n",
       "      <td>90</td>\n",
       "      <td>Clouds</td>\n",
       "      <td>overcast clouds</td>\n",
       "      <td>2018-09-30 20:00:00</td>\n",
       "      <td>2781</td>\n",
       "    </tr>\n",
       "    <tr>\n",
       "      <th>48201</th>\n",
       "      <td>None</td>\n",
       "      <td>282.73</td>\n",
       "      <td>0.0</td>\n",
       "      <td>0.0</td>\n",
       "      <td>90</td>\n",
       "      <td>Thunderstorm</td>\n",
       "      <td>proximity thunderstorm</td>\n",
       "      <td>2018-09-30 21:00:00</td>\n",
       "      <td>2159</td>\n",
       "    </tr>\n",
       "    <tr>\n",
       "      <th>48202</th>\n",
       "      <td>None</td>\n",
       "      <td>282.09</td>\n",
       "      <td>0.0</td>\n",
       "      <td>0.0</td>\n",
       "      <td>90</td>\n",
       "      <td>Clouds</td>\n",
       "      <td>overcast clouds</td>\n",
       "      <td>2018-09-30 22:00:00</td>\n",
       "      <td>1450</td>\n",
       "    </tr>\n",
       "    <tr>\n",
       "      <th>48203</th>\n",
       "      <td>None</td>\n",
       "      <td>282.12</td>\n",
       "      <td>0.0</td>\n",
       "      <td>0.0</td>\n",
       "      <td>90</td>\n",
       "      <td>Clouds</td>\n",
       "      <td>overcast clouds</td>\n",
       "      <td>2018-09-30 23:00:00</td>\n",
       "      <td>954</td>\n",
       "    </tr>\n",
       "  </tbody>\n",
       "</table>\n",
       "</div>"
      ],
      "text/plain": [
       "      holiday    temp  rain_1h  snow_1h  clouds_all  weather_main  \\\n",
       "48199    None  283.45      0.0      0.0          75        Clouds   \n",
       "48200    None  282.76      0.0      0.0          90        Clouds   \n",
       "48201    None  282.73      0.0      0.0          90  Thunderstorm   \n",
       "48202    None  282.09      0.0      0.0          90        Clouds   \n",
       "48203    None  282.12      0.0      0.0          90        Clouds   \n",
       "\n",
       "          weather_description            date_time  traffic_volume  \n",
       "48199           broken clouds  2018-09-30 19:00:00            3543  \n",
       "48200         overcast clouds  2018-09-30 20:00:00            2781  \n",
       "48201  proximity thunderstorm  2018-09-30 21:00:00            2159  \n",
       "48202         overcast clouds  2018-09-30 22:00:00            1450  \n",
       "48203         overcast clouds  2018-09-30 23:00:00             954  "
      ]
     },
     "execution_count": 3,
     "metadata": {},
     "output_type": "execute_result"
    }
   ],
   "source": [
    "traffic_df.tail()"
   ]
  },
  {
   "cell_type": "markdown",
   "metadata": {},
   "source": [
    "### Description of the column categories \n",
    "- holiday: Categorical US National holidays plus regional holiday, Minnesota State Fair\n",
    "- temp: Numeric Average temp in kelvin\n",
    "- rain_1h: numeric amount in mm of rain that occured in the hour\n",
    "- snow_1h: numeric amount in mm of snow that occurred in the hour \n",
    "- clouds_all: numeric percentage of cloud cover\n",
    "- weather_main: categorical short textual description of the current weather\n",
    "- weather_description: categorical longer textual description of the current weather\n",
    "- date_time: DateTime hour of the data collected in local CST Time \n",
    "- traffic_volume:  Numeric Hourly I-94 ATR 301 reported westbound traffic volume"
   ]
  },
  {
   "cell_type": "code",
   "execution_count": 4,
   "metadata": {},
   "outputs": [],
   "source": [
    "# replace holiday with numeric values to represent a holiday = 1 and non-holiday = 0\n",
    "traffic_df[\"holiday\"] = traffic_df[\"holiday\"].replace('None', 0)\n",
    "traffic_df[\"holiday\"] = traffic_df[\"holiday\"].replace(\"Columbus Day\", 1)\n",
    "traffic_df[\"holiday\"] = traffic_df[\"holiday\"].replace(\"Veterans Day\", 1)\n",
    "traffic_df[\"holiday\"] = traffic_df[\"holiday\"].replace(\"Thanksgiving Day\", 1)\n",
    "traffic_df[\"holiday\"] = traffic_df[\"holiday\"].replace(\"Christmas Day\", 1)\n",
    "traffic_df[\"holiday\"] = traffic_df[\"holiday\"].replace(\"New Years Day\", 1)\n",
    "traffic_df[\"holiday\"] = traffic_df[\"holiday\"].replace(\"Washingtons Birthday\", 1)\n",
    "traffic_df[\"holiday\"] = traffic_df[\"holiday\"].replace(\"Memorial Day\", 1)\n",
    "traffic_df[\"holiday\"] = traffic_df[\"holiday\"].replace(\"Independence Day\", 1)\n",
    "traffic_df[\"holiday\"] = traffic_df[\"holiday\"].replace(\"Labor Day\", 1)\n",
    "traffic_df[\"holiday\"] = traffic_df[\"holiday\"].replace(\"Martin Luther King Jr Day\", 1)\n",
    "traffic_df[\"holiday\"] = traffic_df[\"holiday\"].replace(\"State Fair\", 1)"
   ]
  },
  {
   "cell_type": "code",
   "execution_count": 5,
   "metadata": {},
   "outputs": [
    {
     "data": {
      "text/html": [
       "<div>\n",
       "<style scoped>\n",
       "    .dataframe tbody tr th:only-of-type {\n",
       "        vertical-align: middle;\n",
       "    }\n",
       "\n",
       "    .dataframe tbody tr th {\n",
       "        vertical-align: top;\n",
       "    }\n",
       "\n",
       "    .dataframe thead th {\n",
       "        text-align: right;\n",
       "    }\n",
       "</style>\n",
       "<table border=\"1\" class=\"dataframe\">\n",
       "  <thead>\n",
       "    <tr style=\"text-align: right;\">\n",
       "      <th></th>\n",
       "      <th>holiday</th>\n",
       "      <th>temp</th>\n",
       "      <th>rain_1h</th>\n",
       "      <th>snow_1h</th>\n",
       "      <th>clouds_all</th>\n",
       "      <th>weather_main</th>\n",
       "      <th>weather_description</th>\n",
       "      <th>date_time</th>\n",
       "      <th>traffic_volume</th>\n",
       "    </tr>\n",
       "  </thead>\n",
       "  <tbody>\n",
       "    <tr>\n",
       "      <th>0</th>\n",
       "      <td>0</td>\n",
       "      <td>288.28</td>\n",
       "      <td>0.0</td>\n",
       "      <td>0.0</td>\n",
       "      <td>40</td>\n",
       "      <td>Clouds</td>\n",
       "      <td>scattered clouds</td>\n",
       "      <td>2012-10-02 09:00:00</td>\n",
       "      <td>5545</td>\n",
       "    </tr>\n",
       "    <tr>\n",
       "      <th>1</th>\n",
       "      <td>0</td>\n",
       "      <td>289.36</td>\n",
       "      <td>0.0</td>\n",
       "      <td>0.0</td>\n",
       "      <td>75</td>\n",
       "      <td>Clouds</td>\n",
       "      <td>broken clouds</td>\n",
       "      <td>2012-10-02 10:00:00</td>\n",
       "      <td>4516</td>\n",
       "    </tr>\n",
       "    <tr>\n",
       "      <th>2</th>\n",
       "      <td>0</td>\n",
       "      <td>289.58</td>\n",
       "      <td>0.0</td>\n",
       "      <td>0.0</td>\n",
       "      <td>90</td>\n",
       "      <td>Clouds</td>\n",
       "      <td>overcast clouds</td>\n",
       "      <td>2012-10-02 11:00:00</td>\n",
       "      <td>4767</td>\n",
       "    </tr>\n",
       "    <tr>\n",
       "      <th>3</th>\n",
       "      <td>0</td>\n",
       "      <td>290.13</td>\n",
       "      <td>0.0</td>\n",
       "      <td>0.0</td>\n",
       "      <td>90</td>\n",
       "      <td>Clouds</td>\n",
       "      <td>overcast clouds</td>\n",
       "      <td>2012-10-02 12:00:00</td>\n",
       "      <td>5026</td>\n",
       "    </tr>\n",
       "    <tr>\n",
       "      <th>4</th>\n",
       "      <td>0</td>\n",
       "      <td>291.14</td>\n",
       "      <td>0.0</td>\n",
       "      <td>0.0</td>\n",
       "      <td>75</td>\n",
       "      <td>Clouds</td>\n",
       "      <td>broken clouds</td>\n",
       "      <td>2012-10-02 13:00:00</td>\n",
       "      <td>4918</td>\n",
       "    </tr>\n",
       "  </tbody>\n",
       "</table>\n",
       "</div>"
      ],
      "text/plain": [
       "   holiday    temp  rain_1h  snow_1h  clouds_all weather_main  \\\n",
       "0        0  288.28      0.0      0.0          40       Clouds   \n",
       "1        0  289.36      0.0      0.0          75       Clouds   \n",
       "2        0  289.58      0.0      0.0          90       Clouds   \n",
       "3        0  290.13      0.0      0.0          90       Clouds   \n",
       "4        0  291.14      0.0      0.0          75       Clouds   \n",
       "\n",
       "  weather_description            date_time  traffic_volume  \n",
       "0    scattered clouds  2012-10-02 09:00:00            5545  \n",
       "1       broken clouds  2012-10-02 10:00:00            4516  \n",
       "2     overcast clouds  2012-10-02 11:00:00            4767  \n",
       "3     overcast clouds  2012-10-02 12:00:00            5026  \n",
       "4       broken clouds  2012-10-02 13:00:00            4918  "
      ]
     },
     "execution_count": 5,
     "metadata": {},
     "output_type": "execute_result"
    }
   ],
   "source": [
    "traffic_df.head()"
   ]
  },
  {
   "cell_type": "code",
   "execution_count": 6,
   "metadata": {},
   "outputs": [
    {
     "data": {
      "text/plain": [
       "(array([  10.,    0.,    0.,    0.,    0.,    0.,    0.,    0.,    0.,\n",
       "           0.,    0.,    0.,    0.,    0.,    0.,    0.,    0.,    0.,\n",
       "           0.,    0.,    0.,    0.,    0.,    0.,    0.,    0.,    0.,\n",
       "           0.,    0.,    0.,    0.,    0.,    0.,    0.,    0.,    0.,\n",
       "           0.,    0.,    0.,   99.,  936., 2205., 3324., 6422., 8120.,\n",
       "        5700., 8685., 8835., 3583.,  285.]),\n",
       " array([  0.    ,   6.2014,  12.4028,  18.6042,  24.8056,  31.007 ,\n",
       "         37.2084,  43.4098,  49.6112,  55.8126,  62.014 ,  68.2154,\n",
       "         74.4168,  80.6182,  86.8196,  93.021 ,  99.2224, 105.4238,\n",
       "        111.6252, 117.8266, 124.028 , 130.2294, 136.4308, 142.6322,\n",
       "        148.8336, 155.035 , 161.2364, 167.4378, 173.6392, 179.8406,\n",
       "        186.042 , 192.2434, 198.4448, 204.6462, 210.8476, 217.049 ,\n",
       "        223.2504, 229.4518, 235.6532, 241.8546, 248.056 , 254.2574,\n",
       "        260.4588, 266.6602, 272.8616, 279.063 , 285.2644, 291.4658,\n",
       "        297.6672, 303.8686, 310.07  ]),\n",
       " <a list of 50 Patch objects>)"
      ]
     },
     "execution_count": 6,
     "metadata": {},
     "output_type": "execute_result"
    },
    {
     "data": {
      "image/png": "[encoded data removed]",
      "text/plain": [
       "<Figure size 432x288 with 1 Axes>"
      ]
     },
     "metadata": {
      "needs_background": "light"
     },
     "output_type": "display_data"
    }
   ],
   "source": [
    "plt.hist(traffic_df[\"temp\"], bins = 50)"
   ]
  },
  {
   "cell_type": "code",
   "execution_count": 7,
   "metadata": {},
   "outputs": [
    {
     "name": "stdout",
     "output_type": "stream",
     "text": [
      "288.28\n"
     ]
    }
   ],
   "source": [
    "print(traffic_df[\"temp\"][0])"
   ]
  },
  {
   "cell_type": "code",
   "execution_count": 8,
   "metadata": {},
   "outputs": [],
   "source": [
    "def to_farenheit(X): \n",
    "    F_x = X - 273.15\n",
    "    F_x = ((9/5) * (F_x)) + 32.0\n",
    "    \n",
    "    return float(F_x)"
   ]
  },
  {
   "cell_type": "code",
   "execution_count": 9,
   "metadata": {},
   "outputs": [],
   "source": [
    "# Removing 0 Kelvin values\n",
    "traffic_df = traffic_df[traffic_df['temp'] > 0]\n",
    "traffic_df[\"temp\"] = traffic_df['temp'].apply(to_farenheit)"
   ]
  },
  {
   "cell_type": "code",
   "execution_count": 10,
   "metadata": {},
   "outputs": [
    {
     "data": {
      "image/png": "[encoded data removed]",
      "text/plain": [
       "<Figure size 432x288 with 1 Axes>"
      ]
     },
     "metadata": {
      "needs_background": "light"
     },
     "output_type": "display_data"
    }
   ],
   "source": [
    "plt.hist(traffic_df['temp'])\n",
    "plt.show()"
   ]
  },
  {
   "cell_type": "code",
   "execution_count": 11,
   "metadata": {},
   "outputs": [
    {
     "data": {
      "text/html": [
       "<div>\n",
       "<style scoped>\n",
       "    .dataframe tbody tr th:only-of-type {\n",
       "        vertical-align: middle;\n",
       "    }\n",
       "\n",
       "    .dataframe tbody tr th {\n",
       "        vertical-align: top;\n",
       "    }\n",
       "\n",
       "    .dataframe thead th {\n",
       "        text-align: right;\n",
       "    }\n",
       "</style>\n",
       "<table border=\"1\" class=\"dataframe\">\n",
       "  <thead>\n",
       "    <tr style=\"text-align: right;\">\n",
       "      <th></th>\n",
       "      <th>holiday</th>\n",
       "      <th>temp</th>\n",
       "      <th>rain_1h</th>\n",
       "      <th>snow_1h</th>\n",
       "      <th>clouds_all</th>\n",
       "      <th>weather_main</th>\n",
       "      <th>weather_description</th>\n",
       "      <th>date_time</th>\n",
       "      <th>traffic_volume</th>\n",
       "    </tr>\n",
       "  </thead>\n",
       "  <tbody>\n",
       "    <tr>\n",
       "      <th>0</th>\n",
       "      <td>0</td>\n",
       "      <td>59.234</td>\n",
       "      <td>0.0</td>\n",
       "      <td>0.0</td>\n",
       "      <td>40</td>\n",
       "      <td>Clouds</td>\n",
       "      <td>scattered clouds</td>\n",
       "      <td>2012-10-02 09:00:00</td>\n",
       "      <td>5545</td>\n",
       "    </tr>\n",
       "    <tr>\n",
       "      <th>1</th>\n",
       "      <td>0</td>\n",
       "      <td>61.178</td>\n",
       "      <td>0.0</td>\n",
       "      <td>0.0</td>\n",
       "      <td>75</td>\n",
       "      <td>Clouds</td>\n",
       "      <td>broken clouds</td>\n",
       "      <td>2012-10-02 10:00:00</td>\n",
       "      <td>4516</td>\n",
       "    </tr>\n",
       "    <tr>\n",
       "      <th>2</th>\n",
       "      <td>0</td>\n",
       "      <td>61.574</td>\n",
       "      <td>0.0</td>\n",
       "      <td>0.0</td>\n",
       "      <td>90</td>\n",
       "      <td>Clouds</td>\n",
       "      <td>overcast clouds</td>\n",
       "      <td>2012-10-02 11:00:00</td>\n",
       "      <td>4767</td>\n",
       "    </tr>\n",
       "    <tr>\n",
       "      <th>3</th>\n",
       "      <td>0</td>\n",
       "      <td>62.564</td>\n",
       "      <td>0.0</td>\n",
       "      <td>0.0</td>\n",
       "      <td>90</td>\n",
       "      <td>Clouds</td>\n",
       "      <td>overcast clouds</td>\n",
       "      <td>2012-10-02 12:00:00</td>\n",
       "      <td>5026</td>\n",
       "    </tr>\n",
       "    <tr>\n",
       "      <th>4</th>\n",
       "      <td>0</td>\n",
       "      <td>64.382</td>\n",
       "      <td>0.0</td>\n",
       "      <td>0.0</td>\n",
       "      <td>75</td>\n",
       "      <td>Clouds</td>\n",
       "      <td>broken clouds</td>\n",
       "      <td>2012-10-02 13:00:00</td>\n",
       "      <td>4918</td>\n",
       "    </tr>\n",
       "  </tbody>\n",
       "</table>\n",
       "</div>"
      ],
      "text/plain": [
       "   holiday    temp  rain_1h  snow_1h  clouds_all weather_main  \\\n",
       "0        0  59.234      0.0      0.0          40       Clouds   \n",
       "1        0  61.178      0.0      0.0          75       Clouds   \n",
       "2        0  61.574      0.0      0.0          90       Clouds   \n",
       "3        0  62.564      0.0      0.0          90       Clouds   \n",
       "4        0  64.382      0.0      0.0          75       Clouds   \n",
       "\n",
       "  weather_description            date_time  traffic_volume  \n",
       "0    scattered clouds  2012-10-02 09:00:00            5545  \n",
       "1       broken clouds  2012-10-02 10:00:00            4516  \n",
       "2     overcast clouds  2012-10-02 11:00:00            4767  \n",
       "3     overcast clouds  2012-10-02 12:00:00            5026  \n",
       "4       broken clouds  2012-10-02 13:00:00            4918  "
      ]
     },
     "execution_count": 11,
     "metadata": {},
     "output_type": "execute_result"
    }
   ],
   "source": [
    "traffic_df.head()"
   ]
  },
  {
   "cell_type": "code",
   "execution_count": 12,
   "metadata": {},
   "outputs": [
    {
     "data": {
      "text/plain": [
       "<matplotlib.axes._subplots.AxesSubplot at 0x1a25117c90>"
      ]
     },
     "execution_count": 12,
     "metadata": {},
     "output_type": "execute_result"
    },
    {
     "data": {
      "image/png": "[encoded data removed]",
      "text/plain": [
       "<Figure size 432x288 with 1 Axes>"
      ]
     },
     "metadata": {
      "needs_background": "light"
     },
     "output_type": "display_data"
    }
   ],
   "source": [
    "sns.countplot(traffic_df['holiday'])"
   ]
  },
  {
   "cell_type": "code",
   "execution_count": 13,
   "metadata": {},
   "outputs": [
    {
     "data": {
      "text/plain": [
       "<matplotlib.collections.PathCollection at 0x1a24f6cc50>"
      ]
     },
     "execution_count": 13,
     "metadata": {},
     "output_type": "execute_result"
    },
    {
     "data": {
      "image/png": "[encoded data removed]",
      "text/plain": [
       "<Figure size 432x288 with 1 Axes>"
      ]
     },
     "metadata": {
      "needs_background": "light"
     },
     "output_type": "display_data"
    }
   ],
   "source": [
    "#scatterplot of the temperature of rainy day (rain >= .25mm) and the traffic volume\n",
    "plt.scatter(traffic_df['rain_1h'], traffic_df['traffic_volume'])"
   ]
  },
  {
   "cell_type": "code",
   "execution_count": 14,
   "metadata": {},
   "outputs": [
    {
     "data": {
      "text/plain": [
       "<matplotlib.collections.PathCollection at 0x1a24ef3890>"
      ]
     },
     "execution_count": 14,
     "metadata": {},
     "output_type": "execute_result"
    },
    {
     "data": {
      "image/png": "[encoded data removed]",
      "text/plain": [
       "<Figure size 432x288 with 1 Axes>"
      ]
     },
     "metadata": {
      "needs_background": "light"
     },
     "output_type": "display_data"
    }
   ],
   "source": [
    "#scatterplot of the temperature of a snow day (snow fall > 0) and the traffic volume\n",
    "plt.scatter(traffic_df['snow_1h'], traffic_df['traffic_volume'])"
   ]
  },
  {
   "cell_type": "code",
   "execution_count": 15,
   "metadata": {},
   "outputs": [
    {
     "data": {
      "text/html": [
       "<div>\n",
       "<style scoped>\n",
       "    .dataframe tbody tr th:only-of-type {\n",
       "        vertical-align: middle;\n",
       "    }\n",
       "\n",
       "    .dataframe tbody tr th {\n",
       "        vertical-align: top;\n",
       "    }\n",
       "\n",
       "    .dataframe thead th {\n",
       "        text-align: right;\n",
       "    }\n",
       "</style>\n",
       "<table border=\"1\" class=\"dataframe\">\n",
       "  <thead>\n",
       "    <tr style=\"text-align: right;\">\n",
       "      <th></th>\n",
       "      <th>holiday</th>\n",
       "      <th>temp</th>\n",
       "      <th>rain_1h</th>\n",
       "      <th>snow_1h</th>\n",
       "      <th>clouds_all</th>\n",
       "      <th>traffic_volume</th>\n",
       "    </tr>\n",
       "  </thead>\n",
       "  <tbody>\n",
       "    <tr>\n",
       "      <th>holiday</th>\n",
       "      <td>1.000000</td>\n",
       "      <td>-0.008258</td>\n",
       "      <td>-0.000216</td>\n",
       "      <td>-0.000969</td>\n",
       "      <td>-0.005620</td>\n",
       "      <td>-0.042911</td>\n",
       "    </tr>\n",
       "    <tr>\n",
       "      <th>temp</th>\n",
       "      <td>-0.008258</td>\n",
       "      <td>1.000000</td>\n",
       "      <td>0.009484</td>\n",
       "      <td>-0.020860</td>\n",
       "      <td>-0.112859</td>\n",
       "      <td>0.132291</td>\n",
       "    </tr>\n",
       "    <tr>\n",
       "      <th>rain_1h</th>\n",
       "      <td>-0.000216</td>\n",
       "      <td>0.009484</td>\n",
       "      <td>1.000000</td>\n",
       "      <td>-0.000090</td>\n",
       "      <td>0.004817</td>\n",
       "      <td>0.004713</td>\n",
       "    </tr>\n",
       "    <tr>\n",
       "      <th>snow_1h</th>\n",
       "      <td>-0.000969</td>\n",
       "      <td>-0.020860</td>\n",
       "      <td>-0.000090</td>\n",
       "      <td>1.000000</td>\n",
       "      <td>0.027928</td>\n",
       "      <td>0.000728</td>\n",
       "    </tr>\n",
       "    <tr>\n",
       "      <th>clouds_all</th>\n",
       "      <td>-0.005620</td>\n",
       "      <td>-0.112859</td>\n",
       "      <td>0.004817</td>\n",
       "      <td>0.027928</td>\n",
       "      <td>1.000000</td>\n",
       "      <td>0.066819</td>\n",
       "    </tr>\n",
       "    <tr>\n",
       "      <th>traffic_volume</th>\n",
       "      <td>-0.042911</td>\n",
       "      <td>0.132291</td>\n",
       "      <td>0.004713</td>\n",
       "      <td>0.000728</td>\n",
       "      <td>0.066819</td>\n",
       "      <td>1.000000</td>\n",
       "    </tr>\n",
       "  </tbody>\n",
       "</table>\n",
       "</div>"
      ],
      "text/plain": [
       "                 holiday      temp   rain_1h   snow_1h  clouds_all  \\\n",
       "holiday         1.000000 -0.008258 -0.000216 -0.000969   -0.005620   \n",
       "temp           -0.008258  1.000000  0.009484 -0.020860   -0.112859   \n",
       "rain_1h        -0.000216  0.009484  1.000000 -0.000090    0.004817   \n",
       "snow_1h        -0.000969 -0.020860 -0.000090  1.000000    0.027928   \n",
       "clouds_all     -0.005620 -0.112859  0.004817  0.027928    1.000000   \n",
       "traffic_volume -0.042911  0.132291  0.004713  0.000728    0.066819   \n",
       "\n",
       "                traffic_volume  \n",
       "holiday              -0.042911  \n",
       "temp                  0.132291  \n",
       "rain_1h               0.004713  \n",
       "snow_1h               0.000728  \n",
       "clouds_all            0.066819  \n",
       "traffic_volume        1.000000  "
      ]
     },
     "execution_count": 15,
     "metadata": {},
     "output_type": "execute_result"
    }
   ],
   "source": [
    "traffic_df.corr()"
   ]
  },
  {
   "cell_type": "code",
   "execution_count": 16,
   "metadata": {},
   "outputs": [
    {
     "data": {
      "text/plain": [
       "-21.567999999999984"
      ]
     },
     "execution_count": 16,
     "metadata": {},
     "output_type": "execute_result"
    }
   ],
   "source": [
    "traffic_df[\"temp\"].min()"
   ]
  },
  {
   "cell_type": "code",
   "execution_count": 20,
   "metadata": {},
   "outputs": [
    {
     "name": "stdout",
     "output_type": "stream",
     "text": [
      "Model 1:\n",
      "(traffic volume) = 3260.181844  + 177.072913 * (snow in mm)\n"
     ]
    }
   ],
   "source": [
    "## Load the dataset and extract ______ as X and ______ as Y\n",
    "\n",
    "X = traffic_df['snow_1h'] #Replace with X column\n",
    "Y = traffic_df['traffic_volume'] #Replace with Y column\n",
    "\n",
    "## Create A, the augmented data array\n",
    "\n",
    "ones = np.ones(len(X))\n",
    "\n",
    "A1 = np.vstack([ones,X]).T\n",
    "#A1.shape\n",
    "\n",
    "## Solve for w, the weight vector\n",
    "\n",
    "w1 = np.linalg.lstsq(A1,Y, rcond=None)[0]\n",
    "y_pred1 = np.matmul(A1, w1)\n",
    "\n",
    "print(\"Model 1:\")\n",
    "print(\"(traffic volume) = %f  + %f * (snow in mm)\" % (w1[0],w1[1]))"
   ]
  },
  {
   "cell_type": "code",
   "execution_count": 21,
   "metadata": {},
   "outputs": [
    {
     "name": "stdout",
     "output_type": "stream",
     "text": [
      "Model M2:\n",
      "(traffic Volume) = 3260.417644  + -4222.594957 * (snow in mm) + 11125.015665 * (snow in mm)^2\n"
     ]
    }
   ],
   "source": [
    "## Create A, the augmented data array\n",
    "\n",
    "ones = np.ones(len(X))\n",
    "squares = np.square(X)\n",
    "\n",
    "A2 = np.vstack([ones, X, squares]).T\n",
    "\n",
    "## Solve for w, the weight vector\n",
    "w2 = np.linalg.lstsq(A2,Y, rcond=None)[0]\n",
    "y_pred2 = np.matmul(A2, w2)\n",
    "\n",
    "print(\"Model M2:\")\n",
    "print(\"(traffic Volume) = %f  + %f * (snow in mm) + %f * (snow in mm)^2\" % (w2[0],w2[1],w2[2]))"
   ]
  },
  {
   "cell_type": "code",
   "execution_count": 35,
   "metadata": {},
   "outputs": [],
   "source": [
    "## Create a smooth set of X values for plotting the model\n",
    "lineinput = np.linspace(0,0.5,100)\n",
    "## Send the X values for plotting through the linear model\n",
    "ones = np.ones(len(lineinput))\n",
    "squares = np.square(lineinput)\n",
    "A3 = np.vstack([ones, lineinput]).T\n",
    "A4 = np.vstack([ones,lineinput,squares]).T\n",
    "\n",
    "yplot1 = np.matmul(A3, w1)\n",
    "yplot2 = np.matmul(A4, w2)"
   ]
  },
  {
   "cell_type": "code",
   "execution_count": 36,
   "metadata": {},
   "outputs": [
    {
     "data": {
      "text/plain": [
       "<function matplotlib.pyplot.show(*args, **kw)>"
      ]
     },
     "execution_count": 36,
     "metadata": {},
     "output_type": "execute_result"
    },
    {
     "data": {
      "image/png": "[encoded data removed]",
      "text/plain": [
       "<Figure size 432x288 with 2 Axes>"
      ]
     },
     "metadata": {
      "needs_background": "light"
     },
     "output_type": "display_data"
    }
   ],
   "source": [
    "fig, axs = plt.subplots(1, 2)\n",
    "plt.subplots_adjust(left=None, bottom=None, right=2, top=None, wspace=None, hspace=None)\n",
    "\n",
    "plt.subplot(1,2,1)\n",
    "plt.scatter(X, Y, label = \"Data\")\n",
    "plt.plot(lineinput, yplot1, label = \"Model 1\")\n",
    "plt.ylabel('Traffic Volume') # fill in Y\n",
    "plt.xlabel('Snow (in mm)') # fill in X\n",
    "plt.title('Model 1')\n",
    "plt.legend()\n",
    "\n",
    "plt.subplot(1,2,2)\n",
    "plt.scatter(X, Y, label = \"Data\")\n",
    "plt.plot(lineinput, yplot2, label = \"Model 2\")\n",
    "plt.ylabel('Traffic Volume')\n",
    "plt.xlabel('Snow (in mm)')\n",
    "plt.title('Model 2')\n",
    "plt.legend()\n",
    "plt.show "
   ]
  },
  {
   "cell_type": "code",
   "execution_count": 30,
   "metadata": {},
   "outputs": [
    {
     "data": {
      "image/png": "[encoded data removed]",
      "text/plain": [
       "<Figure size 432x288 with 1 Axes>"
      ]
     },
     "metadata": {
      "needs_background": "light"
     },
     "output_type": "display_data"
    },
    {
     "name": "stdout",
     "output_type": "stream",
     "text": [
      "model1_SSE: 190228126514.20364 model2_SSE: 190220615141.40033\n"
     ]
    }
   ],
   "source": [
    "model1_SSE = sum((y_pred1 - Y)**2)\n",
    "model2_SSE = sum((y_pred2 - Y)**2)\n",
    "\n",
    "fig = plt.figure()\n",
    "ax = fig.add_axes([0,0,1,1])\n",
    "x = ['Model 1', 'Model 2']\n",
    "y = [model1_SSE, model2_SSE]\n",
    "ax.bar(x,y)\n",
    "plt.ylabel('Error')\n",
    "plt.title('SSE for Models')\n",
    "plt.show()\n",
    "print('model1_SSE:', model1_SSE, 'model2_SSE:', model2_SSE)"
   ]
  },
  {
   "cell_type": "code",
   "execution_count": null,
   "metadata": {},
   "outputs": [],
   "source": []
  }
 ],
 "metadata": {
  "kernelspec": {
   "display_name": "Python 3",
   "language": "python",
   "name": "python3"
  },
  "language_info": {
   "codemirror_mode": {
    "name": "ipython",
    "version": 3
   },
   "file_extension": ".py",
   "mimetype": "text/x-python",
   "name": "python",
   "nbconvert_exporter": "python",
   "pygments_lexer": "ipython3",
   "version": "3.7.6"
  }
 },
 "nbformat": 4,
 "nbformat_minor": 4
}
