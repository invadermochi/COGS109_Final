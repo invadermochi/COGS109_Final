{
 "cells": [
  {
   "cell_type": "code",
   "execution_count": 1,
   "metadata": {},
   "outputs": [],
   "source": [
    "import pandas as pd\n",
    "import matplotlib.pyplot as plt\n",
    "import seaborn as sns\n",
    "import numpy as np"
   ]
  },
  {
   "cell_type": "code",
   "execution_count": 2,
   "metadata": {},
   "outputs": [
    {
     "output_type": "error",
     "ename": "NameError",
     "evalue": "name 'traffic_df' is not defined",
     "traceback": [
      "\u001b[1;31m---------------------------------------------------------------------------\u001b[0m",
      "\u001b[1;31mNameError\u001b[0m                                 Traceback (most recent call last)",
      "\u001b[1;32m<ipython-input-2-0d1d98caaa61>\u001b[0m in \u001b[0;36m<module>\u001b[1;34m\u001b[0m\n\u001b[0;32m      1\u001b[0m \u001b[1;31m## Load the dataset and extract ______ as X and ______ as Y\u001b[0m\u001b[1;33m\u001b[0m\u001b[1;33m\u001b[0m\u001b[1;33m\u001b[0m\u001b[0m\n\u001b[0;32m      2\u001b[0m \u001b[1;33m\u001b[0m\u001b[0m\n\u001b[1;32m----> 3\u001b[1;33m \u001b[0mX\u001b[0m \u001b[1;33m=\u001b[0m \u001b[0mtraffic_df\u001b[0m\u001b[1;33m[\u001b[0m\u001b[1;34m'snow_1h'\u001b[0m\u001b[1;33m]\u001b[0m \u001b[1;31m#Replace with X column\u001b[0m\u001b[1;33m\u001b[0m\u001b[1;33m\u001b[0m\u001b[0m\n\u001b[0m\u001b[0;32m      4\u001b[0m \u001b[0mY\u001b[0m \u001b[1;33m=\u001b[0m \u001b[0mtraffic_df\u001b[0m\u001b[1;33m[\u001b[0m\u001b[1;34m'traffic_volume'\u001b[0m\u001b[1;33m]\u001b[0m \u001b[1;31m#Replace with Y column\u001b[0m\u001b[1;33m\u001b[0m\u001b[1;33m\u001b[0m\u001b[0m\n\u001b[0;32m      5\u001b[0m \u001b[1;33m\u001b[0m\u001b[0m\n",
      "\u001b[1;31mNameError\u001b[0m: name 'traffic_df' is not defined"
     ]
    }
   ],
   "source": [
    "## Load the dataset and extract ______ as X and ______ as Y\n",
    "\n",
    "X = traffic_df['snow_1h'] #Replace with X column\n",
    "Y = traffic_df['traffic_volume'] #Replace with Y column\n",
    "\n",
    "## Create A, the augmented data array\n",
    "\n",
    "ones = np.ones(len(X))\n",
    "\n",
    "A1 = np.vstack([ones,X]).T\n",
    "#A1.shape\n",
    "\n",
    "## Solve for w, the weight vector\n",
    "\n",
    "w1 = np.linalg.lstsq(A1,Y, rcond=None)[0]\n",
    "y_pred1 = np.matmul(A1, w1)\n",
    "\n",
    "print(\"Model 1:\")\n",
    "print(\"(traffic volume) = %f  + %f * (snow in mm)\" % (w1[0],w1[1]))"
   ]
  },
  {
   "cell_type": "code",
   "execution_count": 21,
   "metadata": {},
   "outputs": [
    {
     "name": "stdout",
     "output_type": "stream",
     "text": [
      "Model M2:\n",
      "(traffic Volume) = 3260.417644  + -4222.594957 * (snow in mm) + 11125.015665 * (snow in mm)^2\n"
     ]
    }
   ],
   "source": [
    "## Create A, the augmented data array\n",
    "\n",
    "ones = np.ones(len(X))\n",
    "squares = np.square(X)\n",
    "\n",
    "A2 = np.vstack([ones, X, squares]).T\n",
    "\n",
    "## Solve for w, the weight vector\n",
    "w2 = np.linalg.lstsq(A2,Y, rcond=None)[0]\n",
    "y_pred2 = np.matmul(A2, w2)\n",
    "\n",
    "print(\"Model M2:\")\n",
    "print(\"(traffic Volume) = %f  + %f * (snow in mm) + %f * (snow in mm)^2\" % (w2[0],w2[1],w2[2]))"
   ]
  },
  {
   "cell_type": "code",
   "execution_count": 23,
   "metadata": {},
   "outputs": [],
   "source": [
    "## Create a smooth set of X values for plotting the model\n",
    "lineinput = np.linspace(0,100,1)     #replace with how we want to space out the information and the range\n",
    "## Send the X values for plotting through the linear model\n",
    "ones = np.ones(len(lineinput))\n",
    "squares = np.square(lineinput)\n",
    "A3 = np.vstack([ones, lineinput]).T\n",
    "A4 = np.vstack([ones,lineinput,squares]).T\n",
    "\n",
    "yplot1 = np.matmul(A3, w1)\n",
    "yplot2 = np.matmul(A4, w2)"
   ]
  },
  {
   "cell_type": "code",
   "execution_count": 24,
   "metadata": {},
   "outputs": [
    {
     "data": {
      "text/plain": [
       "<function matplotlib.pyplot.show(*args, **kw)>"
      ]
     },
     "execution_count": 24,
     "metadata": {},
     "output_type": "execute_result"
    },
    {
     "data": {
      "image/png": "[encoded data removed]",
      "text/plain": [
       "<Figure size 432x288 with 2 Axes>"
      ]
     },
     "metadata": {
      "needs_background": "light"
     },
     "output_type": "display_data"
    }
   ],
   "source": [
    "fig, axs = plt.subplots(1, 2)\n",
    "plt.subplots_adjust(left=None, bottom=None, right=2, top=None, wspace=None, hspace=None)\n",
    "\n",
    "plt.subplot(1,2,1)\n",
    "plt.scatter(X, Y, label = \"Data\")\n",
    "plt.plot(lineinput, yplot1, label = \"Model 1\")\n",
    "plt.ylabel('Traffic Volume') # fill in Y\n",
    "plt.xlabel('Snow (in mm)') # fill in X\n",
    "plt.title('Model 1')\n",
    "plt.legend()\n",
    "\n",
    "plt.subplot(1,2,2)\n",
    "plt.scatter(X, Y, label = \"Data\")\n",
    "plt.plot(lineinput, yplot2, label = \"Model 2\")\n",
    "plt.ylabel('Traffic Volume')\n",
    "plt.xlabel('Snow (in mm)')\n",
    "plt.title('Model 2')\n",
    "plt.legend()\n",
    "plt.show # This lets you plot multiple inputs on the same graph"
   ]
  },
  {
   "cell_type": "code",
   "execution_count": 30,
   "metadata": {},
   "outputs": [
    {
     "data": {
      "image/png": "[encoded data removed]",
      "text/plain": [
       "<Figure size 432x288 with 1 Axes>"
      ]
     },
     "metadata": {
      "needs_background": "light"
     },
     "output_type": "display_data"
    },
    {
     "name": "stdout",
     "output_type": "stream",
     "text": [
      "model1_SSE: 190228126514.20364 model2_SSE: 190220615141.40033\n"
     ]
    }
   ],
   "source": [
    "model1_SSE = sum((y_pred1 - Y)**2)\n",
    "model2_SSE = sum((y_pred2 - Y)**2)\n",
    "\n",
    "fig = plt.figure()\n",
    "ax = fig.add_axes([0,0,1,1])\n",
    "x = ['Model 1', 'Model 2']\n",
    "y = [model1_SSE, model2_SSE]\n",
    "ax.bar(x,y)\n",
    "plt.ylabel('Error')\n",
    "plt.title('SSE for Models')\n",
    "plt.show()\n",
    "print('model1_SSE:', model1_SSE, 'model2_SSE:', model2_SSE)"
   ]
  },
  {
   "cell_type": "code",
   "execution_count": null,
   "metadata": {},
   "outputs": [],
   "source": []
  }
 ],
 "metadata": {
  "kernelspec": {
   "display_name": "Python 3",
   "language": "python",
   "name": "python3"
  },
  "language_info": {
   "codemirror_mode": {
    "name": "ipython",
    "version": 3
   },
   "file_extension": ".py",
   "mimetype": "text/x-python",
   "name": "python",
   "nbconvert_exporter": "python",
   "pygments_lexer": "ipython3",
   "version": "3.7.6-final"
  }
 },
 "nbformat": 4,
 "nbformat_minor": 4
}